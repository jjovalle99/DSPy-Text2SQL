{
 "cells": [
  {
   "cell_type": "markdown",
   "metadata": {},
   "source": [
    "#### Libraries"
   ]
  },
  {
   "cell_type": "code",
   "execution_count": 1,
   "metadata": {},
   "outputs": [],
   "source": [
    "import dspy\n",
    "import numpy as np\n",
    "from dotenv import load_dotenv\n",
    "from dspy.datasets import DataLoader\n",
    "from dspy.evaluate import Evaluate\n",
    "from dspy.teleprompt import BootstrapFewShotWithRandomSearch, LabeledFewShot\n",
    "\n",
    "from src.starling import StarlingLM # <- Custom Local Model Client for Starling7B\n",
    "\n",
    "_ = load_dotenv()"
   ]
  },
  {
   "cell_type": "markdown",
   "metadata": {},
   "source": [
    "#### LLM"
   ]
  },
  {
   "cell_type": "markdown",
   "metadata": {},
   "source": [
    "The model that will be used in this notebook is [Starling7B](https://huggingface.co/Nexusflow/Starling-LM-7B-beta), and the evaluation model will be [GPT-4 Turbo](https://openai.com/gpt-4)."
   ]
  },
  {
   "cell_type": "code",
   "execution_count": 2,
   "metadata": {},
   "outputs": [],
   "source": [
    "# Share generation args between models\n",
    "generation_args = {\n",
    "    \"temperature\":0,\n",
    "    \"max_tokens\":500,\n",
    "    \"stop\":\"\\n\\n\",\n",
    "    \"model_type\":\"chat\",\n",
    "    \"n\": 1\n",
    "}\n",
    "# Model specific args\n",
    "model_info = {\n",
    "    \"gpt-4\": {\"model\": \"gpt-4-0125-preview\", \"api_base\": \"https://api.openai.com/v1/\"},\n",
    "    \"starling\": {\"model\": \"Nexusflow/Starling-LM-7B-beta\"}\n",
    "}"
   ]
  },
  {
   "cell_type": "code",
   "execution_count": 3,
   "metadata": {},
   "outputs": [],
   "source": [
    "# Set up the models\n",
    "lm = StarlingLM(**model_info[\"starling\"], **generation_args)\n",
    "evaluator_lm = dspy.OpenAI(**model_info[\"gpt-4\"], **generation_args)\n",
    "\n",
    "dspy.configure(lm=lm)"
   ]
  },
  {
   "cell_type": "code",
   "execution_count": 4,
   "metadata": {},
   "outputs": [
    {
     "data": {
      "text/plain": [
       "[' The capital of Colombia is Bogotá. It is the largest city in the country and serves as the political, economic, and cultural center of Colombia. Located in the Andean region of the country, Bogotá has a rich history and is known for its vibrant arts scene, diverse architecture, and numerous museums and cultural institutions.']"
      ]
     },
     "execution_count": 4,
     "metadata": {},
     "output_type": "execute_result"
    }
   ],
   "source": [
    "# Testing inference of Starling\n",
    "lm(\"What is the capital of Colombia?\")"
   ]
  },
  {
   "cell_type": "markdown",
   "metadata": {},
   "source": [
    "#### Load dataset"
   ]
  },
  {
   "cell_type": "markdown",
   "metadata": {},
   "source": [
    "The dataset that will be used in this notebook is [gretelai/synthetic_text_to_sql](https://huggingface.co/datasets/gretelai/synthetic_text_to_sql)"
   ]
  },
  {
   "cell_type": "code",
   "execution_count": 5,
   "metadata": {},
   "outputs": [],
   "source": [
    "# Define random seed\n",
    "np.random.seed(1399)"
   ]
  },
  {
   "cell_type": "code",
   "execution_count": 6,
   "metadata": {},
   "outputs": [],
   "source": [
    "# Load dataset\n",
    "dl = DataLoader()\n",
    "dataset = dl.from_huggingface(\n",
    "    dataset_name=\"gretelai/synthetic_text_to_sql\", # Dataset name from Huggingface\n",
    "    fields=(\"sql_prompt\", \"sql_context\", \"sql\"), # Fields needed\n",
    "    input_keys=(\"sql_prompt\", \"sql_context\") # What our model expects to recieve to generate an output\n",
    ")\n",
    "trainset, testset = dl.sample(dataset[\"train\"], n=50), dl.sample(dataset[\"test\"], n=25) # 50 training samples, 25 testing samples"
   ]
  },
  {
   "cell_type": "code",
   "execution_count": 7,
   "metadata": {},
   "outputs": [
    {
     "name": "stdout",
     "output_type": "stream",
     "text": [
      "\n",
      "SQL_PROMPT:\n",
      "\n",
      "What are the top 5 most purchased lipsticks based on sales volume across all regions?\n",
      "\n",
      "SQL_CONTEXT:\n",
      "\n",
      "CREATE TABLE lipsticks (lipstick_id INT, lipstick_name VARCHAR(100), region VARCHAR(50), sales_volume INT); INSERT INTO lipsticks (lipstick_id, lipstick_name, region, sales_volume) VALUES (1, 'Ruby Woo', 'North America', 1500), (2, 'Russian Red', 'Europe', 1200), (3, 'Cherry', 'Asia', 1800), (4, 'Lady Danger', 'South America', 1000), (5, 'Mademoiselle', 'Australia', 1600);\n",
      "\n",
      "SQL:\n",
      "\n",
      "SELECT lipstick_name, SUM(sales_volume) FROM lipsticks GROUP BY lipstick_name ORDER BY SUM(sales_volume) DESC LIMIT 5;\n"
     ]
    }
   ],
   "source": [
    "# Verify an example of the dataset\n",
    "sample = dl.sample(dataset=trainset, n=1)[0]\n",
    "for k, v in sample.items():\n",
    "    print(f\"\\n{k.upper()}:\\n\")\n",
    "    print(v)"
   ]
  },
  {
   "cell_type": "markdown",
   "metadata": {},
   "source": [
    "#### Signature (Input/Output)"
   ]
  },
  {
   "cell_type": "code",
   "execution_count": 8,
   "metadata": {},
   "outputs": [],
   "source": [
    "class TextToSql(dspy.Signature):\n",
    "    \"\"\"Transform a natural language query into a SQL query.\"\"\"\n",
    "\n",
    "    sql_prompt = dspy.InputField(desc=\"Natural language query\")\n",
    "    sql_context = dspy.InputField(desc=\"Context for the query\")\n",
    "    sql = dspy.OutputField(desc=\"SQL query\")"
   ]
  },
  {
   "cell_type": "markdown",
   "metadata": {},
   "source": [
    "### Inference"
   ]
  },
  {
   "cell_type": "markdown",
   "metadata": {},
   "source": [
    "#### Baseline Inference"
   ]
  },
  {
   "cell_type": "code",
   "execution_count": 9,
   "metadata": {},
   "outputs": [
    {
     "name": "stdout",
     "output_type": "stream",
     "text": [
      "\n",
      "SQL:\n",
      "\n",
      "SELECT lipstick_name, SUM(sales_volume) as total_sales\n",
      "FROM lipsticks\n",
      "GROUP BY lipstick_name\n",
      "ORDER BY total_sales DESC\n",
      "LIMIT 5;\n"
     ]
    }
   ],
   "source": [
    "generate_sql_query = dspy.Predict(signature=TextToSql)\n",
    "\n",
    "result = generate_sql_query(\n",
    "    sql_prompt=sample[\"sql_prompt\"],\n",
    "    sql_context=sample[\"sql_context\"]\n",
    ")\n",
    "\n",
    "for k, v in result.items():\n",
    "    print(f\"\\n{k.upper()}:\\n\")\n",
    "    print(v)"
   ]
  },
  {
   "cell_type": "markdown",
   "metadata": {},
   "source": [
    "#### ChainOfThought Inference"
   ]
  },
  {
   "cell_type": "code",
   "execution_count": 10,
   "metadata": {},
   "outputs": [
    {
     "name": "stdout",
     "output_type": "stream",
     "text": [
      "\n",
      "RATIONALE:\n",
      "\n",
      "produce the SQL query. We need to find the top 5 most purchased lipsticks based on sales volume across all regions.\n",
      "\n",
      "SQL:\n",
      "\n",
      "SELECT lipstick_name, SUM(sales_volume) as total_sales\n",
      "FROM lipsticks\n",
      "GROUP BY lipstick_name\n",
      "ORDER BY total_sales DESC\n",
      "LIMIT 5;\n"
     ]
    }
   ],
   "source": [
    "generate_sql_query = dspy.ChainOfThought(signature=TextToSql)\n",
    "\n",
    "result = generate_sql_query(\n",
    "    sql_prompt=sample[\"sql_prompt\"],\n",
    "    sql_context=sample[\"sql_context\"]\n",
    ")\n",
    "\n",
    "for k, v in result.items():\n",
    "    print(f\"\\n{k.upper()}:\\n\")\n",
    "    print(v)"
   ]
  },
  {
   "cell_type": "markdown",
   "metadata": {},
   "source": [
    "### Metric of evaluation"
   ]
  },
  {
   "cell_type": "markdown",
   "metadata": {},
   "source": [
    "#### Metric definition"
   ]
  },
  {
   "cell_type": "code",
   "execution_count": 12,
   "metadata": {},
   "outputs": [],
   "source": [
    "class Correctness(dspy.Signature):\n",
    "    \"\"\"Assess if the SQL query accurately answers the given natural language query based on the provided context.\"\"\"\n",
    "\n",
    "    sql_prompt = dspy.InputField(desc=\"Natural language query \")\n",
    "    sql_context = dspy.InputField(desc=\"Context for the query\")\n",
    "    sql = dspy.InputField(desc=\"SQL query\")\n",
    "    correct = dspy.OutputField(desc=\"Indicate whether the SQL query correctly answers the natural language query based on the given context\", prefix=\"Yes/No:\")"
   ]
  },
  {
   "cell_type": "code",
   "execution_count": 13,
   "metadata": {},
   "outputs": [],
   "source": [
    "def correctness_metric(example, pred, trace=None):\n",
    "    sql_prompt, sql_context, sql = example.sql_prompt, example.sql_context, pred.sql\n",
    "\n",
    "    correctness = dspy.Predict(Correctness)\n",
    "\n",
    "    with dspy.context(lm=evaluator_lm): \n",
    "        correct = correctness(\n",
    "            sql_prompt=sql_prompt,\n",
    "            sql_context=sql_context,\n",
    "            sql=sql,\n",
    "        )\n",
    "    \n",
    "    score = int(correct.correct==\"Yes\")\n",
    "\n",
    "    if trace is not None:\n",
    "        return score == 1\n",
    "\n",
    "    return score"
   ]
  },
  {
   "cell_type": "markdown",
   "metadata": {},
   "source": [
    "#### Evaluate single data point"
   ]
  },
  {
   "cell_type": "code",
   "execution_count": 19,
   "metadata": {},
   "outputs": [
    {
     "name": "stdout",
     "output_type": "stream",
     "text": [
      "Correct SQL query: Yes\n"
     ]
    }
   ],
   "source": [
    "_correctness = correctness_metric(\n",
    "    example=sample,\n",
    "    pred=result\n",
    ")\n",
    "print(f\"Correct SQL query: {'Yes' if _correctness else 'No'}\")"
   ]
  },
  {
   "cell_type": "code",
   "execution_count": 20,
   "metadata": {},
   "outputs": [
    {
     "name": "stdout",
     "output_type": "stream",
     "text": [
      "\n",
      "\n",
      "\n",
      "\n",
      "Assess if the SQL query accurately answers the given natural language query based on the provided context.\n",
      "\n",
      "---\n",
      "\n",
      "Follow the following format.\n",
      "\n",
      "Sql Prompt: Natural language query\n",
      "\n",
      "Sql Context: Context for the query\n",
      "\n",
      "Sql: SQL query\n",
      "\n",
      "Yes/No: Indicate whether the SQL query correctly answers the natural language query based on the given context\n",
      "\n",
      "---\n",
      "\n",
      "Sql Prompt: What are the top 5 most purchased lipsticks based on sales volume across all regions?\n",
      "\n",
      "Sql Context: CREATE TABLE lipsticks (lipstick_id INT, lipstick_name VARCHAR(100), region VARCHAR(50), sales_volume INT); INSERT INTO lipsticks (lipstick_id, lipstick_name, region, sales_volume) VALUES (1, 'Ruby Woo', 'North America', 1500), (2, 'Russian Red', 'Europe', 1200), (3, 'Cherry', 'Asia', 1800), (4, 'Lady Danger', 'South America', 1000), (5, 'Mademoiselle', 'Australia', 1600);\n",
      "\n",
      "Sql: SELECT lipstick_name, SUM(sales_volume) as total_sales FROM lipsticks GROUP BY lipstick_name ORDER BY total_sales DESC LIMIT 5;\n",
      "\n",
      "Yes/No:\u001b[32m Yes\u001b[0m\n",
      "\n",
      "\n",
      "\n"
     ]
    }
   ],
   "source": [
    "evaluator_lm.inspect_history(n=1)"
   ]
  },
  {
   "cell_type": "markdown",
   "metadata": {},
   "source": [
    "#### Evaluate entire dataset - GPT 3.5"
   ]
  },
  {
   "cell_type": "markdown",
   "metadata": {},
   "source": [
    "<div style=\"background-color: #F0F0F0; padding: 10px; border-radius: 5px;\"> <p style=\"color: #4B4B4B; font-size: 18px; font-weight: bold; margin: 0;\"> 📊 Baseline Result </p> <p style=\"color: #4B4B4B; font-size: 16px; margin: 5px 0 0;\"> Without any optimization, <strong>GPT 3.5 Turbo</strong> achieves a <strong>68% correctness</strong> in the evaluation of 25 test samples. </p> </div>"
   ]
  },
  {
   "cell_type": "code",
   "execution_count": 33,
   "metadata": {},
   "outputs": [
    {
     "name": "stderr",
     "output_type": "stream",
     "text": [
      "Average Metric: 17 / 25  (68.0): 100%|██████████| 25/25 [00:07<00:00,  3.53it/s]"
     ]
    },
    {
     "name": "stdout",
     "output_type": "stream",
     "text": [
      "Average Metric: 17 / 25  (68.0%)\n"
     ]
    },
    {
     "name": "stderr",
     "output_type": "stream",
     "text": [
      "\n",
      "/home/jjmov99/dspy-testing/.venv/lib/python3.11/site-packages/dspy/evaluate/evaluate.py:187: FutureWarning: DataFrame.applymap has been deprecated. Use DataFrame.map instead.\n",
      "  df = df.applymap(truncate_cell)\n",
      "/home/jjmov99/dspy-testing/.venv/lib/python3.11/site-packages/dspy/evaluate/evaluate.py:263: FutureWarning: Setting an item of incompatible dtype is deprecated and will raise in a future error of pandas. Value '['1' '1' '0' '1' '1']' has dtype incompatible with int64, please explicitly cast to a compatible dtype first.\n",
      "  df.loc[:, metric_name] = df[metric_name].apply(\n"
     ]
    },
    {
     "data": {
      "text/html": [
       "<style type=\"text/css\">\n",
       "#T_388b4 th {\n",
       "  text-align: left;\n",
       "}\n",
       "#T_388b4 td {\n",
       "  text-align: left;\n",
       "}\n",
       "#T_388b4_row0_col0, #T_388b4_row0_col1, #T_388b4_row0_col2, #T_388b4_row0_col3, #T_388b4_row0_col4, #T_388b4_row0_col5, #T_388b4_row1_col0, #T_388b4_row1_col1, #T_388b4_row1_col2, #T_388b4_row1_col3, #T_388b4_row1_col4, #T_388b4_row1_col5, #T_388b4_row2_col0, #T_388b4_row2_col1, #T_388b4_row2_col2, #T_388b4_row2_col3, #T_388b4_row2_col4, #T_388b4_row2_col5, #T_388b4_row3_col0, #T_388b4_row3_col1, #T_388b4_row3_col2, #T_388b4_row3_col3, #T_388b4_row3_col4, #T_388b4_row3_col5, #T_388b4_row4_col0, #T_388b4_row4_col1, #T_388b4_row4_col2, #T_388b4_row4_col3, #T_388b4_row4_col4, #T_388b4_row4_col5 {\n",
       "  text-align: left;\n",
       "  white-space: pre-wrap;\n",
       "  word-wrap: break-word;\n",
       "  max-width: 400px;\n",
       "}\n",
       "</style>\n",
       "<table id=\"T_388b4\">\n",
       "  <thead>\n",
       "    <tr>\n",
       "      <th class=\"blank level0\" >&nbsp;</th>\n",
       "      <th id=\"T_388b4_level0_col0\" class=\"col_heading level0 col0\" >sql_prompt</th>\n",
       "      <th id=\"T_388b4_level0_col1\" class=\"col_heading level0 col1\" >sql_context</th>\n",
       "      <th id=\"T_388b4_level0_col2\" class=\"col_heading level0 col2\" >example_sql</th>\n",
       "      <th id=\"T_388b4_level0_col3\" class=\"col_heading level0 col3\" >rationale</th>\n",
       "      <th id=\"T_388b4_level0_col4\" class=\"col_heading level0 col4\" >pred_sql</th>\n",
       "      <th id=\"T_388b4_level0_col5\" class=\"col_heading level0 col5\" >correctness_metric</th>\n",
       "    </tr>\n",
       "  </thead>\n",
       "  <tbody>\n",
       "    <tr>\n",
       "      <th id=\"T_388b4_level0_row0\" class=\"row_heading level0 row0\" >0</th>\n",
       "      <td id=\"T_388b4_row0_col0\" class=\"data row0 col0\" >What is the maximum depth of the Arctic Ocean?</td>\n",
       "      <td id=\"T_388b4_row0_col1\" class=\"data row0 col1\" >CREATE TABLE oceans (name TEXT, max_depth REAL); INSERT INTO oceans (name, max_depth) VALUES ('Pacific Ocean', 10994), ('Atlantic Ocean', 8605), ('Indian Ocean', 7490), ('Southern Ocean', 7280),...</td>\n",
       "      <td id=\"T_388b4_row0_col2\" class=\"data row0 col2\" >SELECT max_depth FROM oceans WHERE name = 'Arctic Ocean';</td>\n",
       "      <td id=\"T_388b4_row0_col3\" class=\"data row0 col3\" >find the maximum depth of the Arctic Ocean. We need to select the maximum depth from the oceans table where the name is 'Arctic Ocean'.</td>\n",
       "      <td id=\"T_388b4_row0_col4\" class=\"data row0 col4\" >SELECT max_depth \n",
       "FROM oceans \n",
       "WHERE name = 'Arctic Ocean';</td>\n",
       "      <td id=\"T_388b4_row0_col5\" class=\"data row0 col5\" >1</td>\n",
       "    </tr>\n",
       "    <tr>\n",
       "      <th id=\"T_388b4_level0_row1\" class=\"row_heading level0 row1\" >1</th>\n",
       "      <td id=\"T_388b4_row1_col0\" class=\"data row1 col0\" >How many access to justice initiatives were implemented per country?</td>\n",
       "      <td id=\"T_388b4_row1_col1\" class=\"data row1 col1\" >CREATE TABLE countries (country_id INT, country VARCHAR(50)); INSERT INTO countries (country_id, country) VALUES (1, 'USA'), (2, 'Canada'), (3, 'Mexico'), (4, 'Brazil'), (5, 'Argentina'); CREATE TABLE...</td>\n",
       "      <td id=\"T_388b4_row1_col2\" class=\"data row1 col2\" >SELECT c.country, COUNT(i.id) AS total_initiatives FROM initiatives i JOIN countries c ON i.country_id = c.country_id WHERE i.implemented = TRUE GROUP BY c.country;</td>\n",
       "      <td id=\"T_388b4_row1_col3\" class=\"data row1 col3\" >produce the SQL. We need to count the number of initiatives that were implemented per country. To do this, we will join the countries table...</td>\n",
       "      <td id=\"T_388b4_row1_col4\" class=\"data row1 col4\" >SELECT c.country, COUNT(i.id) AS num_initiatives\n",
       "FROM countries c\n",
       "JOIN initiatives i ON c.country_id = i.country_id\n",
       "WHERE i.implemented = TRUE\n",
       "GROUP BY c.country;</td>\n",
       "      <td id=\"T_388b4_row1_col5\" class=\"data row1 col5\" >1</td>\n",
       "    </tr>\n",
       "    <tr>\n",
       "      <th id=\"T_388b4_level0_row2\" class=\"row_heading level0 row2\" >2</th>\n",
       "      <td id=\"T_388b4_row2_col0\" class=\"data row2 col0\" >What is the total loan amount disbursed by socially responsible lending organizations in the United States?</td>\n",
       "      <td id=\"T_388b4_row2_col1\" class=\"data row2 col1\" >CREATE TABLE tlad_orgs (org_name TEXT, loan_amount NUMERIC); INSERT INTO tlad_orgs (org_name, loan_amount) VALUES ('Socially Responsible USA', 2000000), ('Lending with Integrity', 2500000), ('Fair Lending Inc', 1800000);</td>\n",
       "      <td id=\"T_388b4_row2_col2\" class=\"data row2 col2\" >SELECT SUM(loan_amount) FROM tlad_orgs WHERE org_name IN ('Socially Responsible USA', 'Lending with Integrity', 'Fair Lending Inc') AND country = 'USA';</td>\n",
       "      <td id=\"T_388b4_row2_col3\" class=\"data row2 col3\" >produce the sql. We need to filter the lending organizations that are socially responsible and then calculate the total loan amount disbursed by them.</td>\n",
       "      <td id=\"T_388b4_row2_col4\" class=\"data row2 col4\" >SELECT SUM(loan_amount) AS total_loan_amount\n",
       "FROM tlad_orgs\n",
       "WHERE org_name LIKE '%Socially Responsible%';</td>\n",
       "      <td id=\"T_388b4_row2_col5\" class=\"data row2 col5\" >0</td>\n",
       "    </tr>\n",
       "    <tr>\n",
       "      <th id=\"T_388b4_level0_row3\" class=\"row_heading level0 row3\" >3</th>\n",
       "      <td id=\"T_388b4_row3_col0\" class=\"data row3 col0\" >What was the total R&D expenditure for each organization in H1 2022?</td>\n",
       "      <td id=\"T_388b4_row3_col1\" class=\"data row3 col1\" >CREATE TABLE rd_expenditure (expenditure_id INT, organization_id INT, quarter INT, year INT, amount DECIMAL(10, 2));</td>\n",
       "      <td id=\"T_388b4_row3_col2\" class=\"data row3 col2\" >SELECT organization_id, SUM(amount) as total_expenditure FROM rd_expenditure WHERE quarter IN (1, 2) AND year = 2022 GROUP BY organization_id;</td>\n",
       "      <td id=\"T_388b4_row3_col3\" class=\"data row3 col3\" >produce the sql. We need to filter the data for the first half of 2022 (H1 2022) and then calculate the total R&D expenditure for...</td>\n",
       "      <td id=\"T_388b4_row3_col4\" class=\"data row3 col4\" >SELECT organization_id, SUM(amount) AS total_rd_expenditure\n",
       "FROM rd_expenditure\n",
       "WHERE year = 2022 AND quarter <= 2\n",
       "GROUP BY organization_id;</td>\n",
       "      <td id=\"T_388b4_row3_col5\" class=\"data row3 col5\" >1</td>\n",
       "    </tr>\n",
       "    <tr>\n",
       "      <th id=\"T_388b4_level0_row4\" class=\"row_heading level0 row4\" >4</th>\n",
       "      <td id=\"T_388b4_row4_col0\" class=\"data row4 col0\" >Which countries participated in Mars missions in the 2010s?</td>\n",
       "      <td id=\"T_388b4_row4_col1\" class=\"data row4 col1\" >CREATE TABLE Mars_Missions (Mission_ID INT, Mission_Name VARCHAR(50), Country VARCHAR(50), Year INT, PRIMARY KEY (Mission_ID)); INSERT INTO Mars_Missions (Mission_ID, Mission_Name, Country, Year) VALUES (1, 'Phoenix', 'United...</td>\n",
       "      <td id=\"T_388b4_row4_col2\" class=\"data row4 col2\" >SELECT DISTINCT Country FROM Mars_Missions WHERE Year BETWEEN 2010 AND 2019;</td>\n",
       "      <td id=\"T_388b4_row4_col3\" class=\"data row4 col3\" >produce the sql. We need to select distinct countries from the Mars_Missions table where the year is in the 2010s.</td>\n",
       "      <td id=\"T_388b4_row4_col4\" class=\"data row4 col4\" >SELECT DISTINCT Country\n",
       "FROM Mars_Missions\n",
       "WHERE Year >= 2010 AND Year <= 2019;</td>\n",
       "      <td id=\"T_388b4_row4_col5\" class=\"data row4 col5\" >1</td>\n",
       "    </tr>\n",
       "  </tbody>\n",
       "</table>\n"
      ],
      "text/plain": [
       "<pandas.io.formats.style.Styler at 0x7f587b3446d0>"
      ]
     },
     "metadata": {},
     "output_type": "display_data"
    },
    {
     "data": {
      "text/html": [
       "\n",
       "                <div style='\n",
       "                    text-align: center;\n",
       "                    font-size: 16px;\n",
       "                    font-weight: bold;\n",
       "                    color: #555;\n",
       "                    margin: 10px 0;'>\n",
       "                    ... 20 more rows not displayed ...\n",
       "                </div>\n",
       "                "
      ],
      "text/plain": [
       "<IPython.core.display.HTML object>"
      ]
     },
     "metadata": {},
     "output_type": "display_data"
    }
   ],
   "source": [
    "with dspy.context(lm=dspy.OpenAI(model=\"gpt-3.5-turbo-0125\", api_base=\"https://api.openai.com/v1/\", **generation_args)):\n",
    "    evaluate = Evaluate(devset=testset, metric=correctness_metric, num_threads=10, display_progress=True, display_table=5)\n",
    "    evaluate(generate_sql_query)"
   ]
  },
  {
   "cell_type": "markdown",
   "metadata": {},
   "source": [
    "#### Evaluate entire dataset - Starling7B"
   ]
  },
  {
   "cell_type": "markdown",
   "metadata": {},
   "source": [
    "<div style=\"background-color: #FFCCCB; padding: 10px; border-radius: 5px;\"> <p style=\"color: #8B0000; font-size: 18px; font-weight: bold; margin: 0;\"> ⚠️ Evaluation Result </p> <p style=\"color: #8B0000; font-size: 16px; margin: 5px 0 0;\"> Without any optimization, <strong>Starling7B</strong> achieves a <strong>60% correctness</strong> in the evaluation of 25 test samples. </p> </div>"
   ]
  },
  {
   "cell_type": "code",
   "execution_count": 21,
   "metadata": {},
   "outputs": [
    {
     "name": "stderr",
     "output_type": "stream",
     "text": [
      "Average Metric: 15 / 25  (60.0): 100%|██████████| 25/25 [00:13<00:00,  1.82it/s]"
     ]
    },
    {
     "name": "stdout",
     "output_type": "stream",
     "text": [
      "Average Metric: 15 / 25  (60.0%)\n"
     ]
    },
    {
     "name": "stderr",
     "output_type": "stream",
     "text": [
      "\n",
      "/home/jjmov99/dspy-testing/.venv/lib/python3.11/site-packages/dspy/evaluate/evaluate.py:187: FutureWarning: DataFrame.applymap has been deprecated. Use DataFrame.map instead.\n",
      "  df = df.applymap(truncate_cell)\n",
      "/home/jjmov99/dspy-testing/.venv/lib/python3.11/site-packages/dspy/evaluate/evaluate.py:263: FutureWarning: Setting an item of incompatible dtype is deprecated and will raise in a future error of pandas. Value '['1' '1' '0' '1' '1']' has dtype incompatible with int64, please explicitly cast to a compatible dtype first.\n",
      "  df.loc[:, metric_name] = df[metric_name].apply(\n"
     ]
    },
    {
     "data": {
      "text/html": [
       "<style type=\"text/css\">\n",
       "#T_c72b5 th {\n",
       "  text-align: left;\n",
       "}\n",
       "#T_c72b5 td {\n",
       "  text-align: left;\n",
       "}\n",
       "#T_c72b5_row0_col0, #T_c72b5_row0_col1, #T_c72b5_row0_col2, #T_c72b5_row0_col3, #T_c72b5_row0_col4, #T_c72b5_row0_col5, #T_c72b5_row1_col0, #T_c72b5_row1_col1, #T_c72b5_row1_col2, #T_c72b5_row1_col3, #T_c72b5_row1_col4, #T_c72b5_row1_col5, #T_c72b5_row2_col0, #T_c72b5_row2_col1, #T_c72b5_row2_col2, #T_c72b5_row2_col3, #T_c72b5_row2_col4, #T_c72b5_row2_col5, #T_c72b5_row3_col0, #T_c72b5_row3_col1, #T_c72b5_row3_col2, #T_c72b5_row3_col3, #T_c72b5_row3_col4, #T_c72b5_row3_col5, #T_c72b5_row4_col0, #T_c72b5_row4_col1, #T_c72b5_row4_col2, #T_c72b5_row4_col3, #T_c72b5_row4_col4, #T_c72b5_row4_col5 {\n",
       "  text-align: left;\n",
       "  white-space: pre-wrap;\n",
       "  word-wrap: break-word;\n",
       "  max-width: 400px;\n",
       "}\n",
       "</style>\n",
       "<table id=\"T_c72b5\">\n",
       "  <thead>\n",
       "    <tr>\n",
       "      <th class=\"blank level0\" >&nbsp;</th>\n",
       "      <th id=\"T_c72b5_level0_col0\" class=\"col_heading level0 col0\" >sql_prompt</th>\n",
       "      <th id=\"T_c72b5_level0_col1\" class=\"col_heading level0 col1\" >sql_context</th>\n",
       "      <th id=\"T_c72b5_level0_col2\" class=\"col_heading level0 col2\" >example_sql</th>\n",
       "      <th id=\"T_c72b5_level0_col3\" class=\"col_heading level0 col3\" >rationale</th>\n",
       "      <th id=\"T_c72b5_level0_col4\" class=\"col_heading level0 col4\" >pred_sql</th>\n",
       "      <th id=\"T_c72b5_level0_col5\" class=\"col_heading level0 col5\" >correctness_metric</th>\n",
       "    </tr>\n",
       "  </thead>\n",
       "  <tbody>\n",
       "    <tr>\n",
       "      <th id=\"T_c72b5_level0_row0\" class=\"row_heading level0 row0\" >0</th>\n",
       "      <td id=\"T_c72b5_row0_col0\" class=\"data row0 col0\" >What is the maximum depth of the Arctic Ocean?</td>\n",
       "      <td id=\"T_c72b5_row0_col1\" class=\"data row0 col1\" >CREATE TABLE oceans (name TEXT, max_depth REAL); INSERT INTO oceans (name, max_depth) VALUES ('Pacific Ocean', 10994), ('Atlantic Ocean', 8605), ('Indian Ocean', 7490), ('Southern Ocean', 7280),...</td>\n",
       "      <td id=\"T_c72b5_row0_col2\" class=\"data row0 col2\" >SELECT max_depth FROM oceans WHERE name = 'Arctic Ocean';</td>\n",
       "      <td id=\"T_c72b5_row0_col3\" class=\"data row0 col3\" >produce the SQL query. We first need to identify the table that contains the information about the oceans and their maximum depths. In this case,...</td>\n",
       "      <td id=\"T_c72b5_row0_col4\" class=\"data row0 col4\" >SELECT max_depth FROM oceans WHERE name = 'Arctic Ocean';</td>\n",
       "      <td id=\"T_c72b5_row0_col5\" class=\"data row0 col5\" >1</td>\n",
       "    </tr>\n",
       "    <tr>\n",
       "      <th id=\"T_c72b5_level0_row1\" class=\"row_heading level0 row1\" >1</th>\n",
       "      <td id=\"T_c72b5_row1_col0\" class=\"data row1 col0\" >How many access to justice initiatives were implemented per country?</td>\n",
       "      <td id=\"T_c72b5_row1_col1\" class=\"data row1 col1\" >CREATE TABLE countries (country_id INT, country VARCHAR(50)); INSERT INTO countries (country_id, country) VALUES (1, 'USA'), (2, 'Canada'), (3, 'Mexico'), (4, 'Brazil'), (5, 'Argentina'); CREATE TABLE...</td>\n",
       "      <td id=\"T_c72b5_row1_col2\" class=\"data row1 col2\" >SELECT c.country, COUNT(i.id) AS total_initiatives FROM initiatives i JOIN countries c ON i.country_id = c.country_id WHERE i.implemented = TRUE GROUP BY c.country;</td>\n",
       "      <td id=\"T_c72b5_row1_col3\" class=\"data row1 col3\" >produce the SQL query. We first need to identify the relevant tables and columns in the context provided. In this case, we have two tables:...</td>\n",
       "      <td id=\"T_c72b5_row1_col4\" class=\"data row1 col4\" >SELECT c.country, COUNT(i.id) AS initiatives_implemented\n",
       "FROM countries c\n",
       "JOIN initiatives i ON c.country_id = i.country_id\n",
       "WHERE i.implemented = TRUE\n",
       "GROUP BY c.country;</td>\n",
       "      <td id=\"T_c72b5_row1_col5\" class=\"data row1 col5\" >1</td>\n",
       "    </tr>\n",
       "    <tr>\n",
       "      <th id=\"T_c72b5_level0_row2\" class=\"row_heading level0 row2\" >2</th>\n",
       "      <td id=\"T_c72b5_row2_col0\" class=\"data row2 col0\" >What is the total loan amount disbursed by socially responsible lending organizations in the United States?</td>\n",
       "      <td id=\"T_c72b5_row2_col1\" class=\"data row2 col1\" >CREATE TABLE tlad_orgs (org_name TEXT, loan_amount NUMERIC); INSERT INTO tlad_orgs (org_name, loan_amount) VALUES ('Socially Responsible USA', 2000000), ('Lending with Integrity', 2500000), ('Fair Lending Inc', 1800000);</td>\n",
       "      <td id=\"T_c72b5_row2_col2\" class=\"data row2 col2\" >SELECT SUM(loan_amount) FROM tlad_orgs WHERE org_name IN ('Socially Responsible USA', 'Lending with Integrity', 'Fair Lending Inc') AND country = 'USA';</td>\n",
       "      <td id=\"T_c72b5_row2_col3\" class=\"data row2 col3\" >produce the SQL query. We need to:</td>\n",
       "      <td id=\"T_c72b5_row2_col4\" class=\"data row2 col4\" >1. Identify the relevant table and columns: In this case, the relevant table is `tlad_orgs` with columns `org_name` and `loan_amount`. 2. Filter the data for...</td>\n",
       "      <td id=\"T_c72b5_row2_col5\" class=\"data row2 col5\" >0</td>\n",
       "    </tr>\n",
       "    <tr>\n",
       "      <th id=\"T_c72b5_level0_row3\" class=\"row_heading level0 row3\" >3</th>\n",
       "      <td id=\"T_c72b5_row3_col0\" class=\"data row3 col0\" >What was the total R&D expenditure for each organization in H1 2022?</td>\n",
       "      <td id=\"T_c72b5_row3_col1\" class=\"data row3 col1\" >CREATE TABLE rd_expenditure (expenditure_id INT, organization_id INT, quarter INT, year INT, amount DECIMAL(10, 2));</td>\n",
       "      <td id=\"T_c72b5_row3_col2\" class=\"data row3 col2\" >SELECT organization_id, SUM(amount) as total_expenditure FROM rd_expenditure WHERE quarter IN (1, 2) AND year = 2022 GROUP BY organization_id;</td>\n",
       "      <td id=\"T_c72b5_row3_col3\" class=\"data row3 col3\" >produce the SQL query. We need to find the total R&D expenditure for each organization in H1 2022, which corresponds to the first two quarters...</td>\n",
       "      <td id=\"T_c72b5_row3_col4\" class=\"data row3 col4\" >SELECT organization_id, SUM(amount) as total_expenditure\n",
       "FROM rd_expenditure\n",
       "WHERE quarter IN (1, 2) AND year = 2022\n",
       "GROUP BY organization_id;</td>\n",
       "      <td id=\"T_c72b5_row3_col5\" class=\"data row3 col5\" >1</td>\n",
       "    </tr>\n",
       "    <tr>\n",
       "      <th id=\"T_c72b5_level0_row4\" class=\"row_heading level0 row4\" >4</th>\n",
       "      <td id=\"T_c72b5_row4_col0\" class=\"data row4 col0\" >Which countries participated in Mars missions in the 2010s?</td>\n",
       "      <td id=\"T_c72b5_row4_col1\" class=\"data row4 col1\" >CREATE TABLE Mars_Missions (Mission_ID INT, Mission_Name VARCHAR(50), Country VARCHAR(50), Year INT, PRIMARY KEY (Mission_ID)); INSERT INTO Mars_Missions (Mission_ID, Mission_Name, Country, Year) VALUES (1, 'Phoenix', 'United...</td>\n",
       "      <td id=\"T_c72b5_row4_col2\" class=\"data row4 col2\" >SELECT DISTINCT Country FROM Mars_Missions WHERE Year BETWEEN 2010 AND 2019;</td>\n",
       "      <td id=\"T_c72b5_row4_col3\" class=\"data row4 col3\" >produce the SQL query. We need to find the countries that participated in Mars missions in the 2010s.</td>\n",
       "      <td id=\"T_c72b5_row4_col4\" class=\"data row4 col4\" >SELECT DISTINCT Country\n",
       "FROM Mars_Missions\n",
       "WHERE Year BETWEEN 2010 AND 2019;</td>\n",
       "      <td id=\"T_c72b5_row4_col5\" class=\"data row4 col5\" >1</td>\n",
       "    </tr>\n",
       "  </tbody>\n",
       "</table>\n"
      ],
      "text/plain": [
       "<pandas.io.formats.style.Styler at 0x7f587b96edd0>"
      ]
     },
     "metadata": {},
     "output_type": "display_data"
    },
    {
     "data": {
      "text/html": [
       "\n",
       "                <div style='\n",
       "                    text-align: center;\n",
       "                    font-size: 16px;\n",
       "                    font-weight: bold;\n",
       "                    color: #555;\n",
       "                    margin: 10px 0;'>\n",
       "                    ... 20 more rows not displayed ...\n",
       "                </div>\n",
       "                "
      ],
      "text/plain": [
       "<IPython.core.display.HTML object>"
      ]
     },
     "metadata": {},
     "output_type": "display_data"
    },
    {
     "data": {
      "text/plain": [
       "60.0"
      ]
     },
     "execution_count": 21,
     "metadata": {},
     "output_type": "execute_result"
    }
   ],
   "source": [
    "evaluate = Evaluate(devset=testset, metric=correctness_metric, num_threads=10, display_progress=True, display_table=5)\n",
    "evaluate(generate_sql_query)"
   ]
  },
  {
   "cell_type": "markdown",
   "metadata": {},
   "source": [
    "### Optimize for Text2SQL"
   ]
  },
  {
   "cell_type": "markdown",
   "metadata": {},
   "source": [
    "#### Create program"
   ]
  },
  {
   "cell_type": "code",
   "execution_count": 22,
   "metadata": {},
   "outputs": [],
   "source": [
    "# Define the program ~ You can think of this a Pytorch model.\n",
    "class TextToSqlProgram(dspy.Module):\n",
    "    def __init__(self):\n",
    "        super().__init__()\n",
    "        self.program = dspy.ChainOfThought(signature=TextToSql)\n",
    "    \n",
    "    def forward(self, sql_prompt, sql_context):\n",
    "        return self.program(\n",
    "            sql_prompt=sql_prompt,\n",
    "            sql_context=sql_context\n",
    "        )"
   ]
  },
  {
   "cell_type": "markdown",
   "metadata": {},
   "source": [
    "### FewShot"
   ]
  },
  {
   "cell_type": "code",
   "execution_count": 23,
   "metadata": {},
   "outputs": [],
   "source": [
    "# Execute the optimizer -> this only adds few shots to the prompt\n",
    "optimizer = LabeledFewShot(k=4)\n",
    "optmized_program = optimizer.compile(student=TextToSqlProgram(), trainset=trainset)"
   ]
  },
  {
   "cell_type": "code",
   "execution_count": 24,
   "metadata": {},
   "outputs": [
    {
     "data": {
      "text/plain": [
       "Prediction(\n",
       "    rationale='produce the SQL query. We want to find the top 5 most purchased lipsticks based on sales volume across all regions.',\n",
       "    sql='SELECT lipstick_name, SUM(sales_volume) as total_sales\\nFROM lipsticks\\nGROUP BY lipstick_name\\nORDER BY total_sales DESC\\nLIMIT 5;'\n",
       ")"
      ]
     },
     "execution_count": 24,
     "metadata": {},
     "output_type": "execute_result"
    }
   ],
   "source": [
    "optmized_program(sql_context=sample[\"sql_context\"], sql_prompt=sample[\"sql_prompt\"])"
   ]
  },
  {
   "cell_type": "markdown",
   "metadata": {},
   "source": [
    "#### What is happening inside?"
   ]
  },
  {
   "cell_type": "code",
   "execution_count": 25,
   "metadata": {},
   "outputs": [
    {
     "name": "stdout",
     "output_type": "stream",
     "text": [
      "\n",
      "\n",
      "\n",
      "\n",
      "Transform a natural language query into a SQL query.\n",
      "\n",
      "---\n",
      "\n",
      "Sql Prompt: Identify the top 2 water consuming industries in California in 2021.\n",
      "Sql Context: CREATE TABLE industrial_water_usage (state VARCHAR(20), year INT, sector VARCHAR(30), usage FLOAT); INSERT INTO industrial_water_usage (state, year, sector, usage) VALUES ('California', 2021, 'Agriculture', 45612.3), ('California', 2021, 'Manufacturing', 34567.2), ('California', 2021, 'Mining', 23456.1), ('California', 2021, 'Gasoline Production', 12345.0), ('California', 2021, 'Food Processing', 56789.0);\n",
      "Sql: SELECT sector, usage FROM industrial_water_usage WHERE state = 'California' AND year = 2021 ORDER BY usage DESC LIMIT 2;\n",
      "\n",
      "Sql Prompt: What are the textile sourcing countries with a sustainability rating greater than 75?\n",
      "Sql Context: CREATE TABLE sourcing (id INT, country VARCHAR(20), sustainability_rating INT); INSERT INTO sourcing (id, country, sustainability_rating) VALUES (1, 'China', 70); INSERT INTO sourcing (id, country, sustainability_rating) VALUES (2, 'Italy', 85);\n",
      "Sql: SELECT country FROM sourcing WHERE sustainability_rating > 75;\n",
      "\n",
      "Sql Prompt: What is the average donation amount from donors located in Canada in the past year?\n",
      "Sql Context: CREATE TABLE Donors (DonorID INT, DonorName TEXT, DonationAmount DECIMAL, DonationDate DATE); INSERT INTO Donors (DonorID, DonorName, DonationAmount, DonationDate) VALUES (1, 'John Doe', 50.00, '2021-05-15'), (2, 'Jane Smith', 100.00, '2021-02-10'), (3, 'Michael Lee', 75.00, '2020-12-25');\n",
      "Sql: SELECT AVG(DonationAmount) FROM Donors WHERE DonorName IN (SELECT DonorName FROM Donors WHERE DonationDate >= DATE_SUB(CURRENT_DATE, INTERVAL 1 YEAR) AND Country = 'Canada') AND DonationDate >= DATE_SUB(CURRENT_DATE, INTERVAL 1 YEAR);\n",
      "\n",
      "Sql Prompt: What is the minimum donation amount for donors from India?\n",
      "Sql Context: CREATE TABLE donations (id INT, donor_id INT, amount DECIMAL); INSERT INTO donations (id, donor_id, amount) VALUES (1, 1, 50.00), (2, 2, 100.00); CREATE TABLE donors (id INT, name TEXT, country TEXT); INSERT INTO donors (id, name, country) VALUES (1, 'Ravi', 'India'), (2, 'Sita', 'Nepal');\n",
      "Sql: SELECT MIN(amount) FROM donations JOIN donors ON donations.donor_id = donors.id WHERE donors.country = 'India';\n",
      "\n",
      "---\n",
      "\n",
      "Follow the following format.\n",
      "\n",
      "Sql Prompt: Natural language query\n",
      "\n",
      "Sql Context: Context for the query\n",
      "\n",
      "Reasoning: Let's think step by step in order to ${produce the sql}. We ...\n",
      "\n",
      "Sql: SQL query\n",
      "\n",
      "---\n",
      "\n",
      "Sql Prompt: What are the top 5 most purchased lipsticks based on sales volume across all regions?\n",
      "\n",
      "Sql Context: CREATE TABLE lipsticks (lipstick_id INT, lipstick_name VARCHAR(100), region VARCHAR(50), sales_volume INT); INSERT INTO lipsticks (lipstick_id, lipstick_name, region, sales_volume) VALUES (1, 'Ruby Woo', 'North America', 1500), (2, 'Russian Red', 'Europe', 1200), (3, 'Cherry', 'Asia', 1800), (4, 'Lady Danger', 'South America', 1000), (5, 'Mademoiselle', 'Australia', 1600);\n",
      "\n",
      "Reasoning: Let's think step by step in order to produce the SQL query. We want to find the top 5 most purchased lipsticks based on sales volume across all regions.\n",
      "\n",
      "Sql:\u001b[32m SELECT lipstick_name, SUM(sales_volume) as total_sales\n",
      "FROM lipsticks\n",
      "GROUP BY lipstick_name\n",
      "ORDER BY total_sales DESC\n",
      "LIMIT 5;\u001b[0m\n",
      "\n",
      "\n",
      "\n"
     ]
    }
   ],
   "source": [
    "lm.inspect_history(n=1)"
   ]
  },
  {
   "cell_type": "markdown",
   "metadata": {},
   "source": [
    "#### Evaluate the optimized program"
   ]
  },
  {
   "cell_type": "markdown",
   "metadata": {},
   "source": [
    "\n",
    "<div style=\"background-color: #FFF8DC; padding: 10px; border-radius: 5px;\"> <p style=\"color: #DAA520; font-size: 18px; font-weight: bold; margin: 0;\"> 🌟 Evaluation Progress </p> <p style=\"color: #DAA520; font-size: 16px; margin: 5px 0 0;\"> With Few Shot Optimization, <strong>Starling7B</strong> achieves a <strong>72.0% correctness</strong> in the evaluation of 25 test samples. </p> </div>"
   ]
  },
  {
   "cell_type": "code",
   "execution_count": 26,
   "metadata": {},
   "outputs": [
    {
     "name": "stderr",
     "output_type": "stream",
     "text": [
      "Average Metric: 18 / 25  (72.0): 100%|██████████| 25/25 [00:14<00:00,  1.72it/s]"
     ]
    },
    {
     "name": "stdout",
     "output_type": "stream",
     "text": [
      "Average Metric: 18 / 25  (72.0%)\n"
     ]
    },
    {
     "name": "stderr",
     "output_type": "stream",
     "text": [
      "\n",
      "/home/jjmov99/dspy-testing/.venv/lib/python3.11/site-packages/dspy/evaluate/evaluate.py:187: FutureWarning: DataFrame.applymap has been deprecated. Use DataFrame.map instead.\n",
      "  df = df.applymap(truncate_cell)\n",
      "/home/jjmov99/dspy-testing/.venv/lib/python3.11/site-packages/dspy/evaluate/evaluate.py:263: FutureWarning: Setting an item of incompatible dtype is deprecated and will raise in a future error of pandas. Value '['1' '1' '1' '0' '1']' has dtype incompatible with int64, please explicitly cast to a compatible dtype first.\n",
      "  df.loc[:, metric_name] = df[metric_name].apply(\n"
     ]
    },
    {
     "data": {
      "text/html": [
       "<style type=\"text/css\">\n",
       "#T_6f5eb th {\n",
       "  text-align: left;\n",
       "}\n",
       "#T_6f5eb td {\n",
       "  text-align: left;\n",
       "}\n",
       "#T_6f5eb_row0_col0, #T_6f5eb_row0_col1, #T_6f5eb_row0_col2, #T_6f5eb_row0_col3, #T_6f5eb_row0_col4, #T_6f5eb_row0_col5, #T_6f5eb_row1_col0, #T_6f5eb_row1_col1, #T_6f5eb_row1_col2, #T_6f5eb_row1_col3, #T_6f5eb_row1_col4, #T_6f5eb_row1_col5, #T_6f5eb_row2_col0, #T_6f5eb_row2_col1, #T_6f5eb_row2_col2, #T_6f5eb_row2_col3, #T_6f5eb_row2_col4, #T_6f5eb_row2_col5, #T_6f5eb_row3_col0, #T_6f5eb_row3_col1, #T_6f5eb_row3_col2, #T_6f5eb_row3_col3, #T_6f5eb_row3_col4, #T_6f5eb_row3_col5, #T_6f5eb_row4_col0, #T_6f5eb_row4_col1, #T_6f5eb_row4_col2, #T_6f5eb_row4_col3, #T_6f5eb_row4_col4, #T_6f5eb_row4_col5 {\n",
       "  text-align: left;\n",
       "  white-space: pre-wrap;\n",
       "  word-wrap: break-word;\n",
       "  max-width: 400px;\n",
       "}\n",
       "</style>\n",
       "<table id=\"T_6f5eb\">\n",
       "  <thead>\n",
       "    <tr>\n",
       "      <th class=\"blank level0\" >&nbsp;</th>\n",
       "      <th id=\"T_6f5eb_level0_col0\" class=\"col_heading level0 col0\" >sql_prompt</th>\n",
       "      <th id=\"T_6f5eb_level0_col1\" class=\"col_heading level0 col1\" >sql_context</th>\n",
       "      <th id=\"T_6f5eb_level0_col2\" class=\"col_heading level0 col2\" >example_sql</th>\n",
       "      <th id=\"T_6f5eb_level0_col3\" class=\"col_heading level0 col3\" >rationale</th>\n",
       "      <th id=\"T_6f5eb_level0_col4\" class=\"col_heading level0 col4\" >pred_sql</th>\n",
       "      <th id=\"T_6f5eb_level0_col5\" class=\"col_heading level0 col5\" >correctness_metric</th>\n",
       "    </tr>\n",
       "  </thead>\n",
       "  <tbody>\n",
       "    <tr>\n",
       "      <th id=\"T_6f5eb_level0_row0\" class=\"row_heading level0 row0\" >0</th>\n",
       "      <td id=\"T_6f5eb_row0_col0\" class=\"data row0 col0\" >What is the maximum depth of the Arctic Ocean?</td>\n",
       "      <td id=\"T_6f5eb_row0_col1\" class=\"data row0 col1\" >CREATE TABLE oceans (name TEXT, max_depth REAL); INSERT INTO oceans (name, max_depth) VALUES ('Pacific Ocean', 10994), ('Atlantic Ocean', 8605), ('Indian Ocean', 7490), ('Southern Ocean', 7280),...</td>\n",
       "      <td id=\"T_6f5eb_row0_col2\" class=\"data row0 col2\" >SELECT max_depth FROM oceans WHERE name = 'Arctic Ocean';</td>\n",
       "      <td id=\"T_6f5eb_row0_col3\" class=\"data row0 col3\" >produce the SQL query. First, we need to identify the table and column that contains the information about the maximum depth of the oceans. In...</td>\n",
       "      <td id=\"T_6f5eb_row0_col4\" class=\"data row0 col4\" >SELECT max_depth FROM oceans WHERE name = 'Arctic Ocean';</td>\n",
       "      <td id=\"T_6f5eb_row0_col5\" class=\"data row0 col5\" >1</td>\n",
       "    </tr>\n",
       "    <tr>\n",
       "      <th id=\"T_6f5eb_level0_row1\" class=\"row_heading level0 row1\" >1</th>\n",
       "      <td id=\"T_6f5eb_row1_col0\" class=\"data row1 col0\" >How many access to justice initiatives were implemented per country?</td>\n",
       "      <td id=\"T_6f5eb_row1_col1\" class=\"data row1 col1\" >CREATE TABLE countries (country_id INT, country VARCHAR(50)); INSERT INTO countries (country_id, country) VALUES (1, 'USA'), (2, 'Canada'), (3, 'Mexico'), (4, 'Brazil'), (5, 'Argentina'); CREATE TABLE...</td>\n",
       "      <td id=\"T_6f5eb_row1_col2\" class=\"data row1 col2\" >SELECT c.country, COUNT(i.id) AS total_initiatives FROM initiatives i JOIN countries c ON i.country_id = c.country_id WHERE i.implemented = TRUE GROUP BY c.country;</td>\n",
       "      <td id=\"T_6f5eb_row1_col3\" class=\"data row1 col3\" >produce the SQL query. We need to count the number of implemented initiatives per country.</td>\n",
       "      <td id=\"T_6f5eb_row1_col4\" class=\"data row1 col4\" >SELECT c.country, COUNT(i.id) AS implemented_initiatives\n",
       "FROM countries c\n",
       "JOIN initiatives i ON c.country_id = i.country_id\n",
       "WHERE i.implemented = TRUE\n",
       "GROUP BY c.country;</td>\n",
       "      <td id=\"T_6f5eb_row1_col5\" class=\"data row1 col5\" >1</td>\n",
       "    </tr>\n",
       "    <tr>\n",
       "      <th id=\"T_6f5eb_level0_row2\" class=\"row_heading level0 row2\" >2</th>\n",
       "      <td id=\"T_6f5eb_row2_col0\" class=\"data row2 col0\" >What is the total loan amount disbursed by socially responsible lending organizations in the United States?</td>\n",
       "      <td id=\"T_6f5eb_row2_col1\" class=\"data row2 col1\" >CREATE TABLE tlad_orgs (org_name TEXT, loan_amount NUMERIC); INSERT INTO tlad_orgs (org_name, loan_amount) VALUES ('Socially Responsible USA', 2000000), ('Lending with Integrity', 2500000), ('Fair Lending Inc', 1800000);</td>\n",
       "      <td id=\"T_6f5eb_row2_col2\" class=\"data row2 col2\" >SELECT SUM(loan_amount) FROM tlad_orgs WHERE org_name IN ('Socially Responsible USA', 'Lending with Integrity', 'Fair Lending Inc') AND country = 'USA';</td>\n",
       "      <td id=\"T_6f5eb_row2_col3\" class=\"data row2 col3\" >produce the SQL query. First, we need to identify the organizations that are socially responsible lending organizations in the United States. In this case, we...</td>\n",
       "      <td id=\"T_6f5eb_row2_col4\" class=\"data row2 col4\" >SELECT SUM(loan_amount) FROM tlad_orgs WHERE org_name IN ('Socially Responsible USA', 'Lending with Integrity', 'Fair Lending Inc');</td>\n",
       "      <td id=\"T_6f5eb_row2_col5\" class=\"data row2 col5\" >1</td>\n",
       "    </tr>\n",
       "    <tr>\n",
       "      <th id=\"T_6f5eb_level0_row3\" class=\"row_heading level0 row3\" >3</th>\n",
       "      <td id=\"T_6f5eb_row3_col0\" class=\"data row3 col0\" >What was the total R&D expenditure for each organization in H1 2022?</td>\n",
       "      <td id=\"T_6f5eb_row3_col1\" class=\"data row3 col1\" >CREATE TABLE rd_expenditure (expenditure_id INT, organization_id INT, quarter INT, year INT, amount DECIMAL(10, 2));</td>\n",
       "      <td id=\"T_6f5eb_row3_col2\" class=\"data row3 col2\" >SELECT organization_id, SUM(amount) as total_expenditure FROM rd_expenditure WHERE quarter IN (1, 2) AND year = 2022 GROUP BY organization_id;</td>\n",
       "      <td id=\"T_6f5eb_row3_col3\" class=\"data row3 col3\" >produce the SQL query. We need to find the total R&D expenditure for each organization in the first quarter (H1) of 2022.</td>\n",
       "      <td id=\"T_6f5eb_row3_col4\" class=\"data row3 col4\" >SELECT organization_id, SUM(amount) as total_expenditure\n",
       "FROM rd_expenditure\n",
       "WHERE quarter = 1 AND year = 2022\n",
       "GROUP BY organization_id;</td>\n",
       "      <td id=\"T_6f5eb_row3_col5\" class=\"data row3 col5\" >0</td>\n",
       "    </tr>\n",
       "    <tr>\n",
       "      <th id=\"T_6f5eb_level0_row4\" class=\"row_heading level0 row4\" >4</th>\n",
       "      <td id=\"T_6f5eb_row4_col0\" class=\"data row4 col0\" >Which countries participated in Mars missions in the 2010s?</td>\n",
       "      <td id=\"T_6f5eb_row4_col1\" class=\"data row4 col1\" >CREATE TABLE Mars_Missions (Mission_ID INT, Mission_Name VARCHAR(50), Country VARCHAR(50), Year INT, PRIMARY KEY (Mission_ID)); INSERT INTO Mars_Missions (Mission_ID, Mission_Name, Country, Year) VALUES (1, 'Phoenix', 'United...</td>\n",
       "      <td id=\"T_6f5eb_row4_col2\" class=\"data row4 col2\" >SELECT DISTINCT Country FROM Mars_Missions WHERE Year BETWEEN 2010 AND 2019;</td>\n",
       "      <td id=\"T_6f5eb_row4_col3\" class=\"data row4 col3\" >produce the SQL query. First, we need to identify the missions that took place in the 2010s. Then, we need to find the countries that...</td>\n",
       "      <td id=\"T_6f5eb_row4_col4\" class=\"data row4 col4\" >SELECT DISTINCT Country FROM Mars_Missions WHERE Year BETWEEN 2010 AND 2019;</td>\n",
       "      <td id=\"T_6f5eb_row4_col5\" class=\"data row4 col5\" >1</td>\n",
       "    </tr>\n",
       "  </tbody>\n",
       "</table>\n"
      ],
      "text/plain": [
       "<pandas.io.formats.style.Styler at 0x7f5868eefb50>"
      ]
     },
     "metadata": {},
     "output_type": "display_data"
    },
    {
     "data": {
      "text/html": [
       "\n",
       "                <div style='\n",
       "                    text-align: center;\n",
       "                    font-size: 16px;\n",
       "                    font-weight: bold;\n",
       "                    color: #555;\n",
       "                    margin: 10px 0;'>\n",
       "                    ... 20 more rows not displayed ...\n",
       "                </div>\n",
       "                "
      ],
      "text/plain": [
       "<IPython.core.display.HTML object>"
      ]
     },
     "metadata": {},
     "output_type": "display_data"
    },
    {
     "data": {
      "text/plain": [
       "72.0"
      ]
     },
     "execution_count": 26,
     "metadata": {},
     "output_type": "execute_result"
    }
   ],
   "source": [
    "evaluate(optmized_program)"
   ]
  },
  {
   "cell_type": "markdown",
   "metadata": {},
   "source": [
    "### BootstrapFewShotWithRandomSearch"
   ]
  },
  {
   "cell_type": "markdown",
   "metadata": {},
   "source": [
    "[DSPy docs](https://dspy-docs.vercel.app/docs/building-blocks/optimizers) recommend that in a setup like the one with have at hand, with ~50 samples, the best option is to use `BootstrapFewShotWithRandomSearch`:\n",
    "\n",
    "![image](assets/dspy.png)"
   ]
  },
  {
   "cell_type": "code",
   "execution_count": 27,
   "metadata": {},
   "outputs": [
    {
     "name": "stdout",
     "output_type": "stream",
     "text": [
      "Going to sample between 1 and 2 traces per predictor.\n",
      "Will attempt to train 8 candidate sets.\n"
     ]
    },
    {
     "name": "stderr",
     "output_type": "stream",
     "text": [
      "Average Metric: 15 / 25  (60.0): 100%|██████████| 25/25 [00:20<00:00,  1.20it/s]\n",
      "/home/jjmov99/dspy-testing/.venv/lib/python3.11/site-packages/dspy/evaluate/evaluate.py:187: FutureWarning: DataFrame.applymap has been deprecated. Use DataFrame.map instead.\n",
      "  df = df.applymap(truncate_cell)\n"
     ]
    },
    {
     "name": "stdout",
     "output_type": "stream",
     "text": [
      "Average Metric: 15 / 25  (60.0%)\n",
      "Score: 60.0 for set: [0]\n",
      "New best score: 60.0 for seed -3\n",
      "Scores so far: [60.0]\n",
      "Best score: 60.0\n"
     ]
    },
    {
     "name": "stderr",
     "output_type": "stream",
     "text": [
      "Average Metric: 18 / 25  (72.0): 100%|██████████| 25/25 [00:30<00:00,  1.22s/it]\n"
     ]
    },
    {
     "name": "stdout",
     "output_type": "stream",
     "text": [
      "Average Metric: 18 / 25  (72.0%)\n",
      "Score: 72.0 for set: [16]\n",
      "New best score: 72.0 for seed -2\n",
      "Scores so far: [60.0, 72.0]\n",
      "Best score: 72.0\n"
     ]
    },
    {
     "name": "stderr",
     "output_type": "stream",
     "text": [
      "  6%|▌         | 3/50 [00:14<03:47,  4.85s/it]\n"
     ]
    },
    {
     "name": "stdout",
     "output_type": "stream",
     "text": [
      "Bootstrapped 2 full traces after 4 examples in round 0.\n"
     ]
    },
    {
     "name": "stderr",
     "output_type": "stream",
     "text": [
      "Average Metric: 14 / 25  (56.0): 100%|██████████| 25/25 [00:28<00:00,  1.14s/it]\n"
     ]
    },
    {
     "name": "stdout",
     "output_type": "stream",
     "text": [
      "Average Metric: 14 / 25  (56.0%)\n",
      "Score: 56.0 for set: [16]\n",
      "Scores so far: [60.0, 72.0, 56.0]\n",
      "Best score: 72.0\n",
      "Average of max per entry across top 1 scores: 0.72\n",
      "Average of max per entry across top 2 scores: 0.84\n",
      "Average of max per entry across top 3 scores: 0.84\n",
      "Average of max per entry across top 5 scores: 0.84\n",
      "Average of max per entry across top 8 scores: 0.84\n",
      "Average of max per entry across top 9999 scores: 0.84\n"
     ]
    },
    {
     "name": "stderr",
     "output_type": "stream",
     "text": [
      "  6%|▌         | 3/50 [00:13<03:25,  4.37s/it]\n"
     ]
    },
    {
     "name": "stdout",
     "output_type": "stream",
     "text": [
      "Bootstrapped 2 full traces after 4 examples in round 0.\n"
     ]
    },
    {
     "name": "stderr",
     "output_type": "stream",
     "text": [
      "Average Metric: 18 / 25  (72.0): 100%|██████████| 25/25 [00:28<00:00,  1.15s/it]\n"
     ]
    },
    {
     "name": "stdout",
     "output_type": "stream",
     "text": [
      "Average Metric: 18 / 25  (72.0%)\n",
      "Score: 72.0 for set: [16]\n",
      "Scores so far: [60.0, 72.0, 56.0, 72.0]\n",
      "Best score: 72.0\n",
      "Average of max per entry across top 1 scores: 0.72\n",
      "Average of max per entry across top 2 scores: 0.92\n",
      "Average of max per entry across top 3 scores: 0.92\n",
      "Average of max per entry across top 5 scores: 0.92\n",
      "Average of max per entry across top 8 scores: 0.92\n",
      "Average of max per entry across top 9999 scores: 0.92\n"
     ]
    },
    {
     "name": "stderr",
     "output_type": "stream",
     "text": [
      "  2%|▏         | 1/50 [00:03<03:12,  3.92s/it]\n"
     ]
    },
    {
     "name": "stdout",
     "output_type": "stream",
     "text": [
      "Bootstrapped 1 full traces after 2 examples in round 0.\n"
     ]
    },
    {
     "name": "stderr",
     "output_type": "stream",
     "text": [
      "Average Metric: 16 / 25  (64.0): 100%|██████████| 25/25 [00:30<00:00,  1.22s/it]\n"
     ]
    },
    {
     "name": "stdout",
     "output_type": "stream",
     "text": [
      "Average Metric: 16 / 25  (64.0%)\n",
      "Score: 64.0 for set: [16]\n",
      "Scores so far: [60.0, 72.0, 56.0, 72.0, 64.0]\n",
      "Best score: 72.0\n",
      "Average of max per entry across top 1 scores: 0.72\n",
      "Average of max per entry across top 2 scores: 0.92\n",
      "Average of max per entry across top 3 scores: 0.96\n",
      "Average of max per entry across top 5 scores: 0.96\n",
      "Average of max per entry across top 8 scores: 0.96\n",
      "Average of max per entry across top 9999 scores: 0.96\n"
     ]
    },
    {
     "name": "stderr",
     "output_type": "stream",
     "text": [
      "  2%|▏         | 1/50 [00:04<03:25,  4.20s/it]\n"
     ]
    },
    {
     "name": "stdout",
     "output_type": "stream",
     "text": [
      "Bootstrapped 1 full traces after 2 examples in round 0.\n"
     ]
    },
    {
     "name": "stderr",
     "output_type": "stream",
     "text": [
      "Average Metric: 17 / 25  (68.0): 100%|██████████| 25/25 [00:29<00:00,  1.20s/it]\n"
     ]
    },
    {
     "name": "stdout",
     "output_type": "stream",
     "text": [
      "Average Metric: 17 / 25  (68.0%)\n",
      "Score: 68.0 for set: [16]\n",
      "Scores so far: [60.0, 72.0, 56.0, 72.0, 64.0, 68.0]\n",
      "Best score: 72.0\n",
      "Average of max per entry across top 1 scores: 0.72\n",
      "Average of max per entry across top 2 scores: 0.92\n",
      "Average of max per entry across top 3 scores: 0.96\n",
      "Average of max per entry across top 5 scores: 1.0\n",
      "Average of max per entry across top 8 scores: 1.0\n",
      "Average of max per entry across top 9999 scores: 1.0\n"
     ]
    },
    {
     "name": "stderr",
     "output_type": "stream",
     "text": [
      "  4%|▍         | 2/50 [00:08<03:14,  4.05s/it]\n"
     ]
    },
    {
     "name": "stdout",
     "output_type": "stream",
     "text": [
      "Bootstrapped 1 full traces after 3 examples in round 0.\n"
     ]
    },
    {
     "name": "stderr",
     "output_type": "stream",
     "text": [
      "Average Metric: 20 / 25  (80.0): 100%|██████████| 25/25 [00:33<00:00,  1.36s/it]\n"
     ]
    },
    {
     "name": "stdout",
     "output_type": "stream",
     "text": [
      "Average Metric: 20 / 25  (80.0%)\n",
      "Score: 80.0 for set: [16]\n",
      "New best score: 80.0 for seed 3\n",
      "Scores so far: [60.0, 72.0, 56.0, 72.0, 64.0, 68.0, 80.0]\n",
      "Best score: 80.0\n",
      "Average of max per entry across top 1 scores: 0.8\n",
      "Average of max per entry across top 2 scores: 0.88\n",
      "Average of max per entry across top 3 scores: 0.92\n",
      "Average of max per entry across top 5 scores: 1.0\n",
      "Average of max per entry across top 8 scores: 1.0\n",
      "Average of max per entry across top 9999 scores: 1.0\n"
     ]
    },
    {
     "name": "stderr",
     "output_type": "stream",
     "text": [
      "  2%|▏         | 1/50 [00:07<06:15,  7.67s/it]\n"
     ]
    },
    {
     "name": "stdout",
     "output_type": "stream",
     "text": [
      "Bootstrapped 1 full traces after 2 examples in round 0.\n"
     ]
    },
    {
     "name": "stderr",
     "output_type": "stream",
     "text": [
      "Average Metric: 19 / 25  (76.0): 100%|██████████| 25/25 [00:28<00:00,  1.14s/it]\n"
     ]
    },
    {
     "name": "stdout",
     "output_type": "stream",
     "text": [
      "Average Metric: 19 / 25  (76.0%)\n",
      "Score: 76.0 for set: [16]\n",
      "Scores so far: [60.0, 72.0, 56.0, 72.0, 64.0, 68.0, 80.0, 76.0]\n",
      "Best score: 80.0\n",
      "Average of max per entry across top 1 scores: 0.8\n",
      "Average of max per entry across top 2 scores: 0.84\n",
      "Average of max per entry across top 3 scores: 0.88\n",
      "Average of max per entry across top 5 scores: 0.96\n",
      "Average of max per entry across top 8 scores: 1.0\n",
      "Average of max per entry across top 9999 scores: 1.0\n"
     ]
    },
    {
     "name": "stderr",
     "output_type": "stream",
     "text": [
      "  4%|▍         | 2/50 [00:09<03:39,  4.56s/it]\n"
     ]
    },
    {
     "name": "stdout",
     "output_type": "stream",
     "text": [
      "Bootstrapped 2 full traces after 3 examples in round 0.\n"
     ]
    },
    {
     "name": "stderr",
     "output_type": "stream",
     "text": [
      "Average Metric: 17 / 25  (68.0): 100%|██████████| 25/25 [00:29<00:00,  1.18s/it]\n"
     ]
    },
    {
     "name": "stdout",
     "output_type": "stream",
     "text": [
      "Average Metric: 17 / 25  (68.0%)\n",
      "Score: 68.0 for set: [16]\n",
      "Scores so far: [60.0, 72.0, 56.0, 72.0, 64.0, 68.0, 80.0, 76.0, 68.0]\n",
      "Best score: 80.0\n",
      "Average of max per entry across top 1 scores: 0.8\n",
      "Average of max per entry across top 2 scores: 0.84\n",
      "Average of max per entry across top 3 scores: 0.88\n",
      "Average of max per entry across top 5 scores: 0.96\n",
      "Average of max per entry across top 8 scores: 1.0\n",
      "Average of max per entry across top 9999 scores: 1.0\n"
     ]
    },
    {
     "name": "stderr",
     "output_type": "stream",
     "text": [
      "  2%|▏         | 1/50 [00:03<02:45,  3.37s/it]\n"
     ]
    },
    {
     "name": "stdout",
     "output_type": "stream",
     "text": [
      "Bootstrapped 1 full traces after 2 examples in round 0.\n"
     ]
    },
    {
     "name": "stderr",
     "output_type": "stream",
     "text": [
      "Average Metric: 17 / 25  (68.0): 100%|██████████| 25/25 [00:26<00:00,  1.08s/it]\n"
     ]
    },
    {
     "name": "stdout",
     "output_type": "stream",
     "text": [
      "Average Metric: 17 / 25  (68.0%)\n",
      "Score: 68.0 for set: [16]\n",
      "Scores so far: [60.0, 72.0, 56.0, 72.0, 64.0, 68.0, 80.0, 76.0, 68.0, 68.0]\n",
      "Best score: 80.0\n",
      "Average of max per entry across top 1 scores: 0.8\n",
      "Average of max per entry across top 2 scores: 0.84\n",
      "Average of max per entry across top 3 scores: 0.88\n",
      "Average of max per entry across top 5 scores: 0.96\n",
      "Average of max per entry across top 8 scores: 1.0\n",
      "Average of max per entry across top 9999 scores: 1.0\n"
     ]
    },
    {
     "name": "stderr",
     "output_type": "stream",
     "text": [
      "  4%|▍         | 2/50 [00:09<03:47,  4.75s/it]\n"
     ]
    },
    {
     "name": "stdout",
     "output_type": "stream",
     "text": [
      "Bootstrapped 2 full traces after 3 examples in round 0.\n"
     ]
    },
    {
     "name": "stderr",
     "output_type": "stream",
     "text": [
      "Average Metric: 18 / 25  (72.0): 100%|██████████| 25/25 [00:30<00:00,  1.23s/it]"
     ]
    },
    {
     "name": "stdout",
     "output_type": "stream",
     "text": [
      "Average Metric: 18 / 25  (72.0%)\n",
      "Score: 72.0 for set: [16]\n",
      "Scores so far: [60.0, 72.0, 56.0, 72.0, 64.0, 68.0, 80.0, 76.0, 68.0, 68.0, 72.0]\n",
      "Best score: 80.0\n",
      "Average of max per entry across top 1 scores: 0.8\n",
      "Average of max per entry across top 2 scores: 0.84\n",
      "Average of max per entry across top 3 scores: 0.88\n",
      "Average of max per entry across top 5 scores: 0.96\n",
      "Average of max per entry across top 8 scores: 1.0\n",
      "Average of max per entry across top 9999 scores: 1.0\n",
      "11 candidate programs found.\n"
     ]
    },
    {
     "name": "stderr",
     "output_type": "stream",
     "text": [
      "\n"
     ]
    }
   ],
   "source": [
    "optimizer2 = BootstrapFewShotWithRandomSearch(metric=correctness_metric, max_bootstrapped_demos=2, num_candidate_programs=8, num_threads=5)\n",
    "optmized_program_2 = optimizer2.compile(student = TextToSqlProgram(), trainset=trainset, valset=testset)"
   ]
  },
  {
   "cell_type": "code",
   "execution_count": 28,
   "metadata": {},
   "outputs": [
    {
     "data": {
      "text/plain": [
       "Prediction(\n",
       "    rationale='produce the SQL query. We need to find the top 5 most purchased lipsticks based on sales volume across all regions.',\n",
       "    sql='SELECT lipstick_name, SUM(sales_volume) as total_sales_volume\\nFROM lipsticks\\nGROUP BY lipstick_name\\nORDER BY total_sales_volume DESC\\nLIMIT 5;'\n",
       ")"
      ]
     },
     "execution_count": 28,
     "metadata": {},
     "output_type": "execute_result"
    }
   ],
   "source": [
    "optmized_program_2(sql_context=sample[\"sql_context\"], sql_prompt=sample[\"sql_prompt\"])"
   ]
  },
  {
   "cell_type": "code",
   "execution_count": 29,
   "metadata": {},
   "outputs": [
    {
     "name": "stdout",
     "output_type": "stream",
     "text": [
      "\n",
      "\n",
      "\n",
      "\n",
      "Transform a natural language query into a SQL query.\n",
      "\n",
      "---\n",
      "\n",
      "Sql Prompt: What are the total clinical trial expenses for drug 'DrugG' in 2022?\n",
      "Sql Context: CREATE TABLE clinical_trials (drug VARCHAR(50), year INT, expenses INT); INSERT INTO clinical_trials (drug, year, expenses) VALUES ('DrugG', 2022, 8000000), ('DrugH', 2022, 9000000);\n",
      "Sql: SELECT expenses FROM clinical_trials WHERE drug = 'DrugG' AND year = 2022;\n",
      "\n",
      "Sql Prompt: Insert a new record for a donation of $250 made by a donor from India to the Health category on March 15, 2022.\n",
      "Sql Context: CREATE TABLE Donations (DonationID INT, DonorID INT, Amount DECIMAL, DonationDate DATE, Country TEXT); INSERT INTO Donations (DonationID, DonorID, Amount, DonationDate, Country) VALUES (1, 1, 50, '2022-01-01', 'USA'), (2, 1, 75, '2022-01-01', 'USA'), (3, 2, 100, '2022-02-01', 'Canada'), (4, 3, 200, '2022-03-01', 'Mexico'), (5, 4, 150, '2022-03-01', 'Brazil'); CREATE TABLE ProgramCategories (CategoryID INT, Category TEXT); INSERT INTO ProgramCategories (CategoryID, Category) VALUES (1, 'Education'), (2, 'Health'), (3, 'Environment'), (4, 'Other'); CREATE TABLE Programs (ProgramID INT, CategoryID INT); INSERT INTO Programs (ProgramID, CategoryID) VALUES (101, 1), (102, 2), (103, 3), (104, 4);\n",
      "Sql: INSERT INTO Donations (DonationID, DonorID, Amount, DonationDate, Country) VALUES (6, NULL, 250, '2022-03-15', 'India'); UPDATE Donations SET ProgramID = (SELECT P.ProgramID FROM Programs P INNER JOIN ProgramCategories PC ON P.CategoryID = PC.CategoryID WHERE PC.Category = 'Health') WHERE DonationID = 6;\n",
      "\n",
      "Sql Prompt: What are the unique game genres played on VR headsets?\n",
      "Sql Context: CREATE TABLE GameVR (GameID INT, GameName VARCHAR(20), VRHeadset VARCHAR(10), Genre VARCHAR(20)); INSERT INTO GameVR (GameID, GameName, VRHeadset, Genre) VALUES (1, 'GameE', 'Oculus', 'Adventure'), (2, 'GameF', 'Vive', 'Simulation'), (3, 'GameG', 'Oculus', 'Strategy'), (4, 'GameH', 'Vive', 'Adventure');\n",
      "Sql: SELECT DISTINCT Genre FROM GameVR WHERE VRHeadset IS NOT NULL;\n",
      "\n",
      "Sql Prompt: Identify the top 2 water consuming industries in California in 2021.\n",
      "Sql Context: CREATE TABLE industrial_water_usage (state VARCHAR(20), year INT, sector VARCHAR(30), usage FLOAT); INSERT INTO industrial_water_usage (state, year, sector, usage) VALUES ('California', 2021, 'Agriculture', 45612.3), ('California', 2021, 'Manufacturing', 34567.2), ('California', 2021, 'Mining', 23456.1), ('California', 2021, 'Gasoline Production', 12345.0), ('California', 2021, 'Food Processing', 56789.0);\n",
      "Sql: SELECT sector, usage FROM industrial_water_usage WHERE state = 'California' AND year = 2021 ORDER BY usage DESC LIMIT 2;\n",
      "\n",
      "Sql Prompt: Create a table named 'farm_locations'\n",
      "Sql Context: CREATE TABLE farm_locations (location_id INT PRIMARY KEY, location_name VARCHAR(255), country VARCHAR(255), ocean VARCHAR(255));\n",
      "Sql: CREATE TABLE farm_locations (location_id INT PRIMARY KEY, location_name VARCHAR(255), country VARCHAR(255), ocean VARCHAR(255));\n",
      "\n",
      "Sql Prompt: What are the top 3 cities with the most news articles published about them in the \"news_articles\" table, and their corresponding article counts?\n",
      "Sql Context: CREATE TABLE news_articles (article_id INT, city VARCHAR(255));\n",
      "Sql: SELECT city, COUNT(*) AS article_count FROM news_articles GROUP BY city ORDER BY article_count DESC LIMIT 3;\n",
      "\n",
      "Sql Prompt: What is the total quantity of coal extracted at the 'South' region mines in Q1 2022?\n",
      "Sql Context: CREATE TABLE coal_production (site_id INT, site_name TEXT, region TEXT, month INT, year INT, coal_quantity INT); INSERT INTO coal_production (site_id, site_name, region, month, year, coal_quantity) VALUES (4, 'JKL Mine', 'South', 1, 2022, 5000), (5, 'MNO Mine', 'South', 2, 2022, 6000), (6, 'PQR Mine', 'South', 3, 2022, 7000);\n",
      "Sql: SELECT region, SUM(coal_quantity) as total_q1_2022 FROM coal_production WHERE region = 'South' AND month BETWEEN 1 AND 3 AND year = 2022 GROUP BY region;\n",
      "\n",
      "Sql Prompt: How many participants are involved in community development initiatives in suburban areas?\n",
      "Sql Context: CREATE TABLE CommunityDevelopment (id INT, project_id INT, initiative VARCHAR(255), participants INT, success_rate FLOAT, community_type VARCHAR(255)); CREATE TABLE AgriculturalProjects (id INT, project_name VARCHAR(255), location VARCHAR(255), start_date DATE, end_date DATE, budget FLOAT); INSERT INTO AgriculturalProjects (id, project_name, location, start_date, end_date, budget) VALUES (1, 'Drip Irrigation', 'Suburb A', '2018-01-01', '2019-01-01', 5000.00); INSERT INTO CommunityDevelopment (id, project_id, initiative, participants, success_rate, community_type) VALUES (1, 1, 'Youth Empowerment', 100, 0.90, 'Suburban');\n",
      "Sql: SELECT AgriculturalProjects.location, CommunityDevelopment.initiative, SUM(CommunityDevelopment.participants) as total_participants FROM AgriculturalProjects INNER JOIN CommunityDevelopment ON AgriculturalProjects.id = CommunityDevelopment.project_id WHERE AgriculturalProjects.location = 'Suburb A' GROUP BY AgriculturalProjects.location, CommunityDevelopment.initiative;\n",
      "\n",
      "Sql Prompt: What is the average temperature recorded in Svalbard in January 2020?\n",
      "Sql Context: CREATE TABLE WeatherData (location VARCHAR(50), date DATE, temperature FLOAT); INSERT INTO WeatherData (location, date, temperature) VALUES ('Svalbard', '2020-01-01', -5.0), ('Svalbard', '2020-01-02', -6.0), ('Svalbard', '2020-01-03', -4.5);\n",
      "Sql: SELECT AVG(temperature) FROM WeatherData WHERE location = 'Svalbard' AND date BETWEEN '2020-01-01' AND '2020-01-31';\n",
      "\n",
      "Sql Prompt: What is the total energy consumption of buildings constructed before 2010 in the 'GreenBuildings' table?\n",
      "Sql Context: CREATE TABLE GreenBuildings (id INT, name VARCHAR(50), constructionDate DATE, location VARCHAR(50), energyConsumption DECIMAL(5,2));\n",
      "Sql: SELECT SUM(energyConsumption) FROM GreenBuildings WHERE constructionDate < '2010-01-01';\n",
      "\n",
      "Sql Prompt: What is the total amount of funding raised by biotech startups in the top 3 countries with the most funding, grouped by their founding year?\n",
      "Sql Context: CREATE TABLE biotech_startups (id INT PRIMARY KEY, name VARCHAR(255), total_funding DECIMAL(10,2), founding_year INT, country VARCHAR(255));\n",
      "Sql: SELECT founding_year, country, SUM(total_funding) FROM biotech_startups WHERE country IN (SELECT country FROM biotech_startups GROUP BY country ORDER BY SUM(total_funding) DESC LIMIT 3) GROUP BY founding_year, country;\n",
      "\n",
      "Sql Prompt: What is the maximum number of students enrolled in a course in each department?\n",
      "Sql Context: CREATE TABLE departments (dept_id INT, dept_name TEXT); CREATE TABLE courses (course_id INT, course_name TEXT, dept_id INT, num_students INT); INSERT INTO departments (dept_id, dept_name) VALUES (1, 'Computer Science'), (2, 'Mathematics'), (3, 'English'); INSERT INTO courses (course_id, course_name, dept_id, num_students) VALUES (1, 'Intro to Programming', 1, 50), (2, 'Algebra', 2, 30), (3, 'Calculus', 2, 40), (4, 'English Composition', 3, 60), (5, 'Literature', 3, 45);\n",
      "Sql: SELECT dept_name, MAX(num_students) as max_enrollment FROM departments JOIN courses ON departments.dept_id = courses.dept_id GROUP BY dept_name;\n",
      "\n",
      "Sql Prompt: Compare the number of mobile subscribers using each technology between the Western and Eastern regions.\n",
      "Sql Context: CREATE TABLE mobile_subscribers (subscriber_id INT, technology VARCHAR(20), region VARCHAR(50)); INSERT INTO mobile_subscribers (subscriber_id, technology, region) VALUES (1, '4G', 'North'), (2, '5G', 'North'), (3, '3G', 'South'), (4, '5G', 'East'), (5, '5G', 'North'), (6, '3G', 'South'), (7, '4G', 'West'), (8, '4G', 'East'), (9, '5G', 'East');\n",
      "Sql: SELECT technology, region, COUNT(*) AS subscribers FROM mobile_subscribers GROUP BY technology, region HAVING region IN ('West', 'East') ORDER BY region, technology;\n",
      "\n",
      "Sql Prompt: List the total number of cybersecurity incidents in the last 6 months, grouped by month.\n",
      "Sql Context: CREATE TABLE incidents_monthly (id INT, incident_month DATE, incident_count INT); INSERT INTO incidents_monthly (id, incident_month, incident_count) VALUES (1, '2021-01-01', 150); INSERT INTO incidents_monthly (id, incident_month, incident_count) VALUES (2, '2021-02-01', 200);\n",
      "Sql: SELECT DATE_FORMAT(incident_month, '%Y-%m') as month, SUM(incident_count) FROM incidents_monthly WHERE incident_month >= (SELECT DATE_SUB(CURRENT_DATE, INTERVAL 6 MONTH)) GROUP BY month;\n",
      "\n",
      "Sql Prompt: What are the textile sourcing countries with a sustainability rating greater than 75?\n",
      "Sql Context: CREATE TABLE sourcing (id INT, country VARCHAR(20), sustainability_rating INT); INSERT INTO sourcing (id, country, sustainability_rating) VALUES (1, 'China', 70); INSERT INTO sourcing (id, country, sustainability_rating) VALUES (2, 'Italy', 85);\n",
      "Sql: SELECT country FROM sourcing WHERE sustainability_rating > 75;\n",
      "\n",
      "---\n",
      "\n",
      "Follow the following format.\n",
      "\n",
      "Sql Prompt: Natural language query\n",
      "\n",
      "Sql Context: Context for the query\n",
      "\n",
      "Reasoning: Let's think step by step in order to ${produce the sql}. We ...\n",
      "\n",
      "Sql: SQL query\n",
      "\n",
      "---\n",
      "\n",
      "Sql Prompt: What is the combined installed capacity of wind and solar power plants in China and India?\n",
      "\n",
      "Sql Context: CREATE TABLE wind_plants (country VARCHAR(20), capacity INT); INSERT INTO wind_plants (country, capacity) VALUES ('China', 200000), ('India', 150000); CREATE TABLE solar_plants (country VARCHAR(20), capacity INT); INSERT INTO solar_plants (country, capacity) VALUES ('China', 250000), ('India', 200000);\n",
      "\n",
      "Reasoning: Let's think step by step in order to produce the SQL query. We need to find the combined installed capacity of wind and solar power plants in China and India.\n",
      "\n",
      "Sql: SELECT SUM(capacity) as combined_capacity FROM ( SELECT capacity FROM wind_plants WHERE country IN ('China', 'India') UNION ALL SELECT capacity FROM solar_plants WHERE country IN ('China', 'India') ) AS power_plants;\n",
      "\n",
      "---\n",
      "\n",
      "Sql Prompt: What are the top 5 most purchased lipsticks based on sales volume across all regions?\n",
      "\n",
      "Sql Context: CREATE TABLE lipsticks (lipstick_id INT, lipstick_name VARCHAR(100), region VARCHAR(50), sales_volume INT); INSERT INTO lipsticks (lipstick_id, lipstick_name, region, sales_volume) VALUES (1, 'Ruby Woo', 'North America', 1500), (2, 'Russian Red', 'Europe', 1200), (3, 'Cherry', 'Asia', 1800), (4, 'Lady Danger', 'South America', 1000), (5, 'Mademoiselle', 'Australia', 1600);\n",
      "\n",
      "Reasoning: Let's think step by step in order to produce the SQL query. We need to find the top 5 most purchased lipsticks based on sales volume across all regions.\n",
      "\n",
      "Sql:\u001b[32m SELECT lipstick_name, SUM(sales_volume) as total_sales_volume\n",
      "FROM lipsticks\n",
      "GROUP BY lipstick_name\n",
      "ORDER BY total_sales_volume DESC\n",
      "LIMIT 5;\u001b[0m\n",
      "\n",
      "\n",
      "\n"
     ]
    }
   ],
   "source": [
    "lm.inspect_history(n=1)"
   ]
  },
  {
   "cell_type": "markdown",
   "metadata": {},
   "source": [
    "#### Evaluate the optimized program"
   ]
  },
  {
   "cell_type": "markdown",
   "metadata": {},
   "source": [
    "<div style=\"background-color: #E0F8E0; padding: 10px; border-radius: 5px;\"> <p style=\"color: #006400; font-size: 18px; font-weight: bold; margin: 0;\"> ✅ Evaluation Success </p> <p style=\"color: #006400; font-size: 16px; margin: 5px 0 0;\"> With BootstrapFewShotWithRandomSearch Optimization, <strong>Starling7B</strong> achieves an <strong>80.0% correctness</strong> in the evaluation of 25 test samples. </p> </div>"
   ]
  },
  {
   "cell_type": "code",
   "execution_count": 30,
   "metadata": {},
   "outputs": [
    {
     "name": "stderr",
     "output_type": "stream",
     "text": [
      "  0%|          | 0/25 [00:00<?, ?it/s]"
     ]
    },
    {
     "name": "stderr",
     "output_type": "stream",
     "text": [
      "Average Metric: 20 / 25  (80.0): 100%|██████████| 25/25 [00:23<00:00,  1.08it/s]"
     ]
    },
    {
     "name": "stdout",
     "output_type": "stream",
     "text": [
      "Average Metric: 20 / 25  (80.0%)\n"
     ]
    },
    {
     "name": "stderr",
     "output_type": "stream",
     "text": [
      "\n",
      "/home/jjmov99/dspy-testing/.venv/lib/python3.11/site-packages/dspy/evaluate/evaluate.py:187: FutureWarning: DataFrame.applymap has been deprecated. Use DataFrame.map instead.\n",
      "  df = df.applymap(truncate_cell)\n",
      "/home/jjmov99/dspy-testing/.venv/lib/python3.11/site-packages/dspy/evaluate/evaluate.py:263: FutureWarning: Setting an item of incompatible dtype is deprecated and will raise in a future error of pandas. Value '['1' '1' '1' '1' '1']' has dtype incompatible with int64, please explicitly cast to a compatible dtype first.\n",
      "  df.loc[:, metric_name] = df[metric_name].apply(\n"
     ]
    },
    {
     "data": {
      "text/html": [
       "<style type=\"text/css\">\n",
       "#T_f8368 th {\n",
       "  text-align: left;\n",
       "}\n",
       "#T_f8368 td {\n",
       "  text-align: left;\n",
       "}\n",
       "#T_f8368_row0_col0, #T_f8368_row0_col1, #T_f8368_row0_col2, #T_f8368_row0_col3, #T_f8368_row0_col4, #T_f8368_row0_col5, #T_f8368_row1_col0, #T_f8368_row1_col1, #T_f8368_row1_col2, #T_f8368_row1_col3, #T_f8368_row1_col4, #T_f8368_row1_col5, #T_f8368_row2_col0, #T_f8368_row2_col1, #T_f8368_row2_col2, #T_f8368_row2_col3, #T_f8368_row2_col4, #T_f8368_row2_col5, #T_f8368_row3_col0, #T_f8368_row3_col1, #T_f8368_row3_col2, #T_f8368_row3_col3, #T_f8368_row3_col4, #T_f8368_row3_col5, #T_f8368_row4_col0, #T_f8368_row4_col1, #T_f8368_row4_col2, #T_f8368_row4_col3, #T_f8368_row4_col4, #T_f8368_row4_col5 {\n",
       "  text-align: left;\n",
       "  white-space: pre-wrap;\n",
       "  word-wrap: break-word;\n",
       "  max-width: 400px;\n",
       "}\n",
       "</style>\n",
       "<table id=\"T_f8368\">\n",
       "  <thead>\n",
       "    <tr>\n",
       "      <th class=\"blank level0\" >&nbsp;</th>\n",
       "      <th id=\"T_f8368_level0_col0\" class=\"col_heading level0 col0\" >sql_prompt</th>\n",
       "      <th id=\"T_f8368_level0_col1\" class=\"col_heading level0 col1\" >sql_context</th>\n",
       "      <th id=\"T_f8368_level0_col2\" class=\"col_heading level0 col2\" >example_sql</th>\n",
       "      <th id=\"T_f8368_level0_col3\" class=\"col_heading level0 col3\" >rationale</th>\n",
       "      <th id=\"T_f8368_level0_col4\" class=\"col_heading level0 col4\" >pred_sql</th>\n",
       "      <th id=\"T_f8368_level0_col5\" class=\"col_heading level0 col5\" >correctness_metric</th>\n",
       "    </tr>\n",
       "  </thead>\n",
       "  <tbody>\n",
       "    <tr>\n",
       "      <th id=\"T_f8368_level0_row0\" class=\"row_heading level0 row0\" >0</th>\n",
       "      <td id=\"T_f8368_row0_col0\" class=\"data row0 col0\" >What is the maximum depth of the Arctic Ocean?</td>\n",
       "      <td id=\"T_f8368_row0_col1\" class=\"data row0 col1\" >CREATE TABLE oceans (name TEXT, max_depth REAL); INSERT INTO oceans (name, max_depth) VALUES ('Pacific Ocean', 10994), ('Atlantic Ocean', 8605), ('Indian Ocean', 7490), ('Southern Ocean', 7280),...</td>\n",
       "      <td id=\"T_f8368_row0_col2\" class=\"data row0 col2\" >SELECT max_depth FROM oceans WHERE name = 'Arctic Ocean';</td>\n",
       "      <td id=\"T_f8368_row0_col3\" class=\"data row0 col3\" >produce the SQL query. We need to find the maximum depth of the Arctic Ocean.</td>\n",
       "      <td id=\"T_f8368_row0_col4\" class=\"data row0 col4\" >SELECT max_depth FROM oceans WHERE name = 'Arctic Ocean';</td>\n",
       "      <td id=\"T_f8368_row0_col5\" class=\"data row0 col5\" >1</td>\n",
       "    </tr>\n",
       "    <tr>\n",
       "      <th id=\"T_f8368_level0_row1\" class=\"row_heading level0 row1\" >1</th>\n",
       "      <td id=\"T_f8368_row1_col0\" class=\"data row1 col0\" >How many access to justice initiatives were implemented per country?</td>\n",
       "      <td id=\"T_f8368_row1_col1\" class=\"data row1 col1\" >CREATE TABLE countries (country_id INT, country VARCHAR(50)); INSERT INTO countries (country_id, country) VALUES (1, 'USA'), (2, 'Canada'), (3, 'Mexico'), (4, 'Brazil'), (5, 'Argentina'); CREATE TABLE...</td>\n",
       "      <td id=\"T_f8368_row1_col2\" class=\"data row1 col2\" >SELECT c.country, COUNT(i.id) AS total_initiatives FROM initiatives i JOIN countries c ON i.country_id = c.country_id WHERE i.implemented = TRUE GROUP BY c.country;</td>\n",
       "      <td id=\"T_f8368_row1_col3\" class=\"data row1 col3\" >produce the SQL query. We need to find the number of access to justice initiatives implemented per country.</td>\n",
       "      <td id=\"T_f8368_row1_col4\" class=\"data row1 col4\" >SELECT c.country, COUNT(i.id) as implemented_initiatives\n",
       "FROM countries c\n",
       "JOIN initiatives i ON c.country_id = i.country_id\n",
       "WHERE i.implemented = TRUE\n",
       "GROUP BY c.country;</td>\n",
       "      <td id=\"T_f8368_row1_col5\" class=\"data row1 col5\" >1</td>\n",
       "    </tr>\n",
       "    <tr>\n",
       "      <th id=\"T_f8368_level0_row2\" class=\"row_heading level0 row2\" >2</th>\n",
       "      <td id=\"T_f8368_row2_col0\" class=\"data row2 col0\" >What is the total loan amount disbursed by socially responsible lending organizations in the United States?</td>\n",
       "      <td id=\"T_f8368_row2_col1\" class=\"data row2 col1\" >CREATE TABLE tlad_orgs (org_name TEXT, loan_amount NUMERIC); INSERT INTO tlad_orgs (org_name, loan_amount) VALUES ('Socially Responsible USA', 2000000), ('Lending with Integrity', 2500000), ('Fair Lending Inc', 1800000);</td>\n",
       "      <td id=\"T_f8368_row2_col2\" class=\"data row2 col2\" >SELECT SUM(loan_amount) FROM tlad_orgs WHERE org_name IN ('Socially Responsible USA', 'Lending with Integrity', 'Fair Lending Inc') AND country = 'USA';</td>\n",
       "      <td id=\"T_f8368_row2_col3\" class=\"data row2 col3\" >produce the SQL query. We need to find the total loan amount disbursed by socially responsible lending organizations in the United States.</td>\n",
       "      <td id=\"T_f8368_row2_col4\" class=\"data row2 col4\" >SELECT SUM(loan_amount) as total_loan_amount FROM tlad_orgs WHERE org_name IN ('Socially Responsible USA', 'Lending with Integrity', 'Fair Lending Inc');</td>\n",
       "      <td id=\"T_f8368_row2_col5\" class=\"data row2 col5\" >1</td>\n",
       "    </tr>\n",
       "    <tr>\n",
       "      <th id=\"T_f8368_level0_row3\" class=\"row_heading level0 row3\" >3</th>\n",
       "      <td id=\"T_f8368_row3_col0\" class=\"data row3 col0\" >What was the total R&D expenditure for each organization in H1 2022?</td>\n",
       "      <td id=\"T_f8368_row3_col1\" class=\"data row3 col1\" >CREATE TABLE rd_expenditure (expenditure_id INT, organization_id INT, quarter INT, year INT, amount DECIMAL(10, 2));</td>\n",
       "      <td id=\"T_f8368_row3_col2\" class=\"data row3 col2\" >SELECT organization_id, SUM(amount) as total_expenditure FROM rd_expenditure WHERE quarter IN (1, 2) AND year = 2022 GROUP BY organization_id;</td>\n",
       "      <td id=\"T_f8368_row3_col3\" class=\"data row3 col3\" >produce the SQL query. We need to find the total R&D expenditure for each organization in the first half of 2022 (H1 2022).</td>\n",
       "      <td id=\"T_f8368_row3_col4\" class=\"data row3 col4\" >SELECT organization_id, SUM(amount) as total_expenditure\n",
       "FROM rd_expenditure\n",
       "WHERE quarter BETWEEN 1 AND 2 AND year = 2022\n",
       "GROUP BY organization_id;</td>\n",
       "      <td id=\"T_f8368_row3_col5\" class=\"data row3 col5\" >1</td>\n",
       "    </tr>\n",
       "    <tr>\n",
       "      <th id=\"T_f8368_level0_row4\" class=\"row_heading level0 row4\" >4</th>\n",
       "      <td id=\"T_f8368_row4_col0\" class=\"data row4 col0\" >Which countries participated in Mars missions in the 2010s?</td>\n",
       "      <td id=\"T_f8368_row4_col1\" class=\"data row4 col1\" >CREATE TABLE Mars_Missions (Mission_ID INT, Mission_Name VARCHAR(50), Country VARCHAR(50), Year INT, PRIMARY KEY (Mission_ID)); INSERT INTO Mars_Missions (Mission_ID, Mission_Name, Country, Year) VALUES (1, 'Phoenix', 'United...</td>\n",
       "      <td id=\"T_f8368_row4_col2\" class=\"data row4 col2\" >SELECT DISTINCT Country FROM Mars_Missions WHERE Year BETWEEN 2010 AND 2019;</td>\n",
       "      <td id=\"T_f8368_row4_col3\" class=\"data row4 col3\" >produce the SQL query. We need to find the countries that participated in Mars missions in the 2010s.</td>\n",
       "      <td id=\"T_f8368_row4_col4\" class=\"data row4 col4\" >SELECT DISTINCT Country FROM Mars_Missions WHERE Year BETWEEN 2010 AND 2019;</td>\n",
       "      <td id=\"T_f8368_row4_col5\" class=\"data row4 col5\" >1</td>\n",
       "    </tr>\n",
       "  </tbody>\n",
       "</table>\n"
      ],
      "text/plain": [
       "<pandas.io.formats.style.Styler at 0x7f587b48e010>"
      ]
     },
     "metadata": {},
     "output_type": "display_data"
    },
    {
     "data": {
      "text/html": [
       "\n",
       "                <div style='\n",
       "                    text-align: center;\n",
       "                    font-size: 16px;\n",
       "                    font-weight: bold;\n",
       "                    color: #555;\n",
       "                    margin: 10px 0;'>\n",
       "                    ... 20 more rows not displayed ...\n",
       "                </div>\n",
       "                "
      ],
      "text/plain": [
       "<IPython.core.display.HTML object>"
      ]
     },
     "metadata": {},
     "output_type": "display_data"
    },
    {
     "data": {
      "text/plain": [
       "80.0"
      ]
     },
     "execution_count": 30,
     "metadata": {},
     "output_type": "execute_result"
    }
   ],
   "source": [
    "evaluate(optmized_program_2)"
   ]
  }
 ],
 "metadata": {
  "kernelspec": {
   "display_name": ".venv",
   "language": "python",
   "name": "python3"
  },
  "language_info": {
   "codemirror_mode": {
    "name": "ipython",
    "version": 3
   },
   "file_extension": ".py",
   "mimetype": "text/x-python",
   "name": "python",
   "nbconvert_exporter": "python",
   "pygments_lexer": "ipython3",
   "version": "3.11.6"
  }
 },
 "nbformat": 4,
 "nbformat_minor": 2
}
